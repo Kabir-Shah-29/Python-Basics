{
  "nbformat": 4,
  "nbformat_minor": 0,
  "metadata": {
    "colab": {
      "name": "Day6(Sets).ipynb",
      "provenance": [],
      "collapsed_sections": [],
      "authorship_tag": "ABX9TyNq5ba0UiJLgauk8pivsgN3",
      "include_colab_link": true
    },
    "kernelspec": {
      "name": "python3",
      "display_name": "Python 3"
    },
    "language_info": {
      "name": "python"
    }
  },
  "cells": [
    {
      "cell_type": "markdown",
      "metadata": {
        "id": "view-in-github",
        "colab_type": "text"
      },
      "source": [
        "<a href=\"https://colab.research.google.com/github/Lunatic-2981/Python/blob/main/Day6(Sets).ipynb\" target=\"_parent\"><img src=\"https://colab.research.google.com/assets/colab-badge.svg\" alt=\"Open In Colab\"/></a>"
      ]
    },
    {
      "cell_type": "code",
      "execution_count": 9,
      "metadata": {
        "colab": {
          "base_uri": "https://localhost:8080/"
        },
        "id": "rXT0C32c76RQ",
        "outputId": "b503f908-2bd3-4904-ecdf-98dee6b57105"
      },
      "outputs": [
        {
          "output_type": "execute_result",
          "data": {
            "text/plain": [
              "{'Kabir', 'Karan', 'Kaushal', 'Rajbir', 'Zaid'}"
            ]
          },
          "metadata": {},
          "execution_count": 9
        }
      ],
      "source": [
        "#add\n",
        "s1={\"Kabir\", \"Kaushal\", \"Karan\", \"Rajbir\"}\n",
        "s1.add(\"Zaid\")\n",
        "s1"
      ]
    },
    {
      "cell_type": "code",
      "source": [
        "#clear\n",
        "c={1,5,9,7,2,6,8,4}\n",
        "c.clear()\n",
        "c"
      ],
      "metadata": {
        "colab": {
          "base_uri": "https://localhost:8080/"
        },
        "id": "Hjicag7R80g0",
        "outputId": "654d4297-207e-49af-b49c-8f1a395dcd8d"
      },
      "execution_count": 3,
      "outputs": [
        {
          "output_type": "execute_result",
          "data": {
            "text/plain": [
              "set()"
            ]
          },
          "metadata": {},
          "execution_count": 3
        }
      ]
    },
    {
      "cell_type": "code",
      "source": [
        "#copy\n",
        "s2=s1.copy()\n",
        "s2"
      ],
      "metadata": {
        "colab": {
          "base_uri": "https://localhost:8080/"
        },
        "id": "su-SUuNN9Bss",
        "outputId": "885abdb2-642b-425f-89d5-fb44e0a9a537"
      },
      "execution_count": 5,
      "outputs": [
        {
          "output_type": "execute_result",
          "data": {
            "text/plain": [
              "{'Kabir', 'Karan', 'Kaushal', 'Rajbir', 'Zaid'}"
            ]
          },
          "metadata": {},
          "execution_count": 5
        }
      ]
    },
    {
      "cell_type": "code",
      "source": [
        "#difference\n",
        "s3={\"Kabir\", \"Kaushal\", \"Karan\", \"Rajbir\", \"Zaid\", \"Mukta\"}\n",
        "sd=s3.difference(s1)\n",
        "sd"
      ],
      "metadata": {
        "colab": {
          "base_uri": "https://localhost:8080/"
        },
        "id": "NsQ-MjsI9Y5i",
        "outputId": "fb8bdfc1-94d6-4dea-fc93-ae31c1b1a205"
      },
      "execution_count": 11,
      "outputs": [
        {
          "output_type": "execute_result",
          "data": {
            "text/plain": [
              "{'Mukta'}"
            ]
          },
          "metadata": {},
          "execution_count": 11
        }
      ]
    },
    {
      "cell_type": "code",
      "source": [
        "#difference update \n",
        "S1={\"Apple\", \"OnePlus\",\"Samsung\", \"BlackBerry\"}\n",
        "S2={\"MI\",\"RealMe\",\"Nothing\", \"BlackBerry\"}\n",
        "S1.difference_update(S2)\n",
        "S1"
      ],
      "metadata": {
        "colab": {
          "base_uri": "https://localhost:8080/"
        },
        "id": "18ytNP1g9tmM",
        "outputId": "8c42bfad-fa91-42b2-e501-71f89e064fc0"
      },
      "execution_count": 19,
      "outputs": [
        {
          "output_type": "execute_result",
          "data": {
            "text/plain": [
              "{'Apple', 'OnePlus', 'Samsung'}"
            ]
          },
          "metadata": {},
          "execution_count": 19
        }
      ]
    },
    {
      "cell_type": "code",
      "source": [
        "#intersection\n",
        "S1={\"Apple\", \"OnePlus\",\"Samsung\", \"BlackBerry\"}\n",
        "S2={\"MI\",\"RealMe\",\"Nothing\", \"BlackBerry\"}\n",
        "S3=S1.intersection(S2)\n",
        "S3"
      ],
      "metadata": {
        "colab": {
          "base_uri": "https://localhost:8080/"
        },
        "id": "F25GafYr_Vhh",
        "outputId": "e7da0c75-6097-4ea2-808d-6e93f7f491c5"
      },
      "execution_count": 21,
      "outputs": [
        {
          "output_type": "execute_result",
          "data": {
            "text/plain": [
              "{'BlackBerry'}"
            ]
          },
          "metadata": {},
          "execution_count": 21
        }
      ]
    },
    {
      "cell_type": "code",
      "source": [
        "#intersection update\n",
        "S1.intersection_update(S2)\n",
        "S1"
      ],
      "metadata": {
        "colab": {
          "base_uri": "https://localhost:8080/"
        },
        "id": "hoYYxGJ-_8n_",
        "outputId": "4dd6a2d3-9e99-4443-8c4d-ed97819feb13"
      },
      "execution_count": 22,
      "outputs": [
        {
          "output_type": "execute_result",
          "data": {
            "text/plain": [
              "{'BlackBerry'}"
            ]
          },
          "metadata": {},
          "execution_count": 22
        }
      ]
    },
    {
      "cell_type": "code",
      "source": [
        "#Union\n",
        "S1={\"Apple\", \"OnePlus\",\"Samsung\", \"BlackBerry\"}\n",
        "S2={\"MI\",\"RealMe\",\"Nothing\", \"BlackBerry\"}\n",
        "S3=S1.union(S2)\n",
        "S3"
      ],
      "metadata": {
        "colab": {
          "base_uri": "https://localhost:8080/"
        },
        "id": "JZDWHL_mAMA7",
        "outputId": "bba63124-c8fc-411d-cb1a-e5afa6122f80"
      },
      "execution_count": 24,
      "outputs": [
        {
          "output_type": "execute_result",
          "data": {
            "text/plain": [
              "{'Apple', 'BlackBerry', 'MI', 'Nothing', 'OnePlus', 'RealMe', 'Samsung'}"
            ]
          },
          "metadata": {},
          "execution_count": 24
        }
      ]
    },
    {
      "cell_type": "code",
      "source": [
        "#isdisjoint\n",
        "S1={\"Apple\", \"OnePlus\",\"Samsung\", \"BlackBerry\"}\n",
        "S2={\"MI\",\"RealMe\",\"Nothing\", \"BlackBerry\"}\n",
        "S3=S1.isdisjoint(S2)\n",
        "S3"
      ],
      "metadata": {
        "colab": {
          "base_uri": "https://localhost:8080/"
        },
        "id": "6Cw7L2hUBL_D",
        "outputId": "278c6fe5-e5b1-4d1b-ea28-7fb2c7a3a4b2"
      },
      "execution_count": 26,
      "outputs": [
        {
          "output_type": "execute_result",
          "data": {
            "text/plain": [
              "False"
            ]
          },
          "metadata": {},
          "execution_count": 26
        }
      ]
    },
    {
      "cell_type": "code",
      "source": [
        "#isdisjoint\n",
        "S1={\"Apple\", \"OnePlus\",\"Samsung\", \"BlackBerry\"}\n",
        "S2={\"MI\",\"RealMe\",\"Nothing\"}\n",
        "S3=S2.isdisjoint(S1)\n",
        "S3"
      ],
      "metadata": {
        "colab": {
          "base_uri": "https://localhost:8080/"
        },
        "id": "R9PqjAlbBeZL",
        "outputId": "c01711c6-01eb-4e76-c389-3123401310f6"
      },
      "execution_count": 27,
      "outputs": [
        {
          "output_type": "execute_result",
          "data": {
            "text/plain": [
              "True"
            ]
          },
          "metadata": {},
          "execution_count": 27
        }
      ]
    },
    {
      "cell_type": "code",
      "source": [
        "#issubset\n",
        "S1={\"Apple\", \"OnePlus\",\"Samsung\", \"BlackBerry\"}\n",
        "S2={\"MI\",\"RealMe\",\"Nothing\"}\n",
        "S3=S1.issubset(S2)\n",
        "S3"
      ],
      "metadata": {
        "colab": {
          "base_uri": "https://localhost:8080/"
        },
        "id": "d1soO60UBxta",
        "outputId": "66d1da5b-3306-4368-a572-e80eae9ddd99"
      },
      "execution_count": 29,
      "outputs": [
        {
          "output_type": "execute_result",
          "data": {
            "text/plain": [
              "False"
            ]
          },
          "metadata": {},
          "execution_count": 29
        }
      ]
    },
    {
      "cell_type": "code",
      "source": [
        "#issubset\n",
        "S1={\"Apple\", \"OnePlus\",\"Samsung\", \"BlackBerry\", \"MI\", \"RealMe\", \"Nothing\"}\n",
        "S2={\"MI\", \"RealMe\", \"Nothing\"}\n",
        "S3=S2.issubset(S1)\n",
        "S3"
      ],
      "metadata": {
        "colab": {
          "base_uri": "https://localhost:8080/"
        },
        "id": "5Dp0oibkClbh",
        "outputId": "11309380-a19e-41ab-ec27-2db9e541177e"
      },
      "execution_count": 30,
      "outputs": [
        {
          "output_type": "execute_result",
          "data": {
            "text/plain": [
              "True"
            ]
          },
          "metadata": {},
          "execution_count": 30
        }
      ]
    },
    {
      "cell_type": "code",
      "source": [
        "#issuperset\n",
        "S1={\"Apple\", \"OnePlus\",\"Samsung\", \"BlackBerry\", \"MI\", \"RealMe\", \"Nothing\"}\n",
        "S2={\"MI\", \"RealMe\", \"Nothing\"}\n",
        "S3=S1.issuperset(S2)\n",
        "S3"
      ],
      "metadata": {
        "colab": {
          "base_uri": "https://localhost:8080/"
        },
        "id": "vyncPZzPC1-E",
        "outputId": "f951d463-d418-4496-84cb-bdcc5397c858"
      },
      "execution_count": 31,
      "outputs": [
        {
          "output_type": "execute_result",
          "data": {
            "text/plain": [
              "True"
            ]
          },
          "metadata": {},
          "execution_count": 31
        }
      ]
    },
    {
      "cell_type": "code",
      "source": [
        "#issuperset\n",
        "S1={\"Apple\", \"OnePlus\",\"Samsung\", \"BlackBerry\", \"MI\", \"RealMe\", \"Nothing\"}\n",
        "S2={\"MI\", \"RealMe\", \"Nothing\"}\n",
        "S3=S2.issuperset(S1)\n",
        "S3"
      ],
      "metadata": {
        "colab": {
          "base_uri": "https://localhost:8080/"
        },
        "id": "r3Ua-KElDTy3",
        "outputId": "4dc9bb42-f873-4cb3-a349-cea4c01f02b0"
      },
      "execution_count": 32,
      "outputs": [
        {
          "output_type": "execute_result",
          "data": {
            "text/plain": [
              "False"
            ]
          },
          "metadata": {},
          "execution_count": 32
        }
      ]
    },
    {
      "cell_type": "code",
      "source": [
        "#pop\n",
        "S1={\"Apple\", \"OnePlus\",\"Samsung\", \"BlackBerry\", \"MI\", \"RealMe\", \"Nothing\"}\n",
        "S2={\"MI\", \"RealMe\", \"Nothing\"}\n",
        "S1.pop()\n",
        "S1"
      ],
      "metadata": {
        "colab": {
          "base_uri": "https://localhost:8080/"
        },
        "id": "iyAtLRxdDbYs",
        "outputId": "b2f7b7b2-55d0-4bce-a238-65f7a6fcd7d5"
      },
      "execution_count": 36,
      "outputs": [
        {
          "output_type": "execute_result",
          "data": {
            "text/plain": [
              "{'BlackBerry', 'MI', 'Nothing', 'OnePlus', 'RealMe', 'Samsung'}"
            ]
          },
          "metadata": {},
          "execution_count": 36
        }
      ]
    },
    {
      "cell_type": "code",
      "source": [
        "#remove\n",
        "S2.remove(\"Nothing\")\n",
        "S2"
      ],
      "metadata": {
        "colab": {
          "base_uri": "https://localhost:8080/"
        },
        "id": "w_LfK8W_EHTF",
        "outputId": "39a76c41-4c70-4128-d897-1c824701f290"
      },
      "execution_count": 37,
      "outputs": [
        {
          "output_type": "execute_result",
          "data": {
            "text/plain": [
              "{'MI', 'RealMe'}"
            ]
          },
          "metadata": {},
          "execution_count": 37
        }
      ]
    },
    {
      "cell_type": "code",
      "source": [
        "#symmetric difference\n",
        "S1={\"Apple\", \"OnePlus\",\"Samsung\", \"BlackBerry\"}\n",
        "S2={\"MI\",\"RealMe\",\"Nothing\",\"Apple\"}\n",
        "S3=S1.symmetric_difference(S2)\n",
        "S3"
      ],
      "metadata": {
        "colab": {
          "base_uri": "https://localhost:8080/"
        },
        "id": "c-NiyvCUErcA",
        "outputId": "36616535-e995-4789-fdd3-f482175f5793"
      },
      "execution_count": 38,
      "outputs": [
        {
          "output_type": "execute_result",
          "data": {
            "text/plain": [
              "{'BlackBerry', 'MI', 'Nothing', 'OnePlus', 'RealMe', 'Samsung'}"
            ]
          },
          "metadata": {},
          "execution_count": 38
        }
      ]
    },
    {
      "cell_type": "code",
      "source": [
        "#symmetric difference update\n",
        "S1={\"Apple\", \"OnePlus\",\"Samsung\", \"BlackBerry\"}\n",
        "S2={\"MI\",\"RealMe\",\"Nothing\", \"Apple\"}\n",
        "S1.symmetric_difference_update(S2)\n",
        "S1"
      ],
      "metadata": {
        "colab": {
          "base_uri": "https://localhost:8080/"
        },
        "id": "PLcpT_f4Fl9N",
        "outputId": "fd7fe41c-19ee-4fe8-acc5-778ef000a8a4"
      },
      "execution_count": 39,
      "outputs": [
        {
          "output_type": "execute_result",
          "data": {
            "text/plain": [
              "{'BlackBerry', 'MI', 'Nothing', 'OnePlus', 'RealMe', 'Samsung'}"
            ]
          },
          "metadata": {},
          "execution_count": 39
        }
      ]
    },
    {
      "cell_type": "code",
      "source": [
        "#update\n",
        "S1={\"Apple\", \"OnePlus\",\"Samsung\", \"BlackBerry\"}\n",
        "S2={\"MI\",\"RealMe\",\"Nothing\"}\n",
        "S1.update(S2)\n",
        "S1"
      ],
      "metadata": {
        "colab": {
          "base_uri": "https://localhost:8080/"
        },
        "id": "PB2qDWVHF2g6",
        "outputId": "903164f9-3bd3-4e0b-a245-9e2ae6609db8"
      },
      "execution_count": 41,
      "outputs": [
        {
          "output_type": "execute_result",
          "data": {
            "text/plain": [
              "{'Apple', 'BlackBerry', 'MI', 'Nothing', 'OnePlus', 'RealMe', 'Samsung'}"
            ]
          },
          "metadata": {},
          "execution_count": 41
        }
      ]
    }
  ]
}