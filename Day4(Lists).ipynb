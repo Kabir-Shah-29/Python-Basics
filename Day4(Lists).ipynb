{
  "nbformat": 4,
  "nbformat_minor": 0,
  "metadata": {
    "colab": {
      "name": "Day4(Lists).ipynb",
      "provenance": [],
      "collapsed_sections": [],
      "authorship_tag": "ABX9TyPO8oxbdUvSvNxN1t3ARKwP",
      "include_colab_link": true
    },
    "kernelspec": {
      "name": "python3",
      "display_name": "Python 3"
    },
    "language_info": {
      "name": "python"
    }
  },
  "cells": [
    {
      "cell_type": "markdown",
      "metadata": {
        "id": "view-in-github",
        "colab_type": "text"
      },
      "source": [
        "<a href=\"https://colab.research.google.com/github/Lunatic-2981/Python/blob/main/Day4(Lists).ipynb\" target=\"_parent\"><img src=\"https://colab.research.google.com/assets/colab-badge.svg\" alt=\"Open In Colab\"/></a>"
      ]
    },
    {
      "cell_type": "code",
      "source": [
        "c=k.count(True)\n",
        "c"
      ],
      "metadata": {
        "colab": {
          "base_uri": "https://localhost:8080/"
        },
        "id": "Zctu8tv9Yl_e",
        "outputId": "8a9cdb68-d308-4b3e-bed4-57c1d348f496"
      },
      "execution_count": 4,
      "outputs": [
        {
          "output_type": "execute_result",
          "data": {
            "text/plain": [
              "3"
            ]
          },
          "metadata": {},
          "execution_count": 4
        }
      ]
    },
    {
      "cell_type": "code",
      "execution_count": 3,
      "metadata": {
        "colab": {
          "base_uri": "https://localhost:8080/"
        },
        "id": "ztkxw4ogUIea",
        "outputId": "af79b646-445c-463c-87b2-a904a5c68a97"
      },
      "outputs": [
        {
          "output_type": "execute_result",
          "data": {
            "text/plain": [
              "2"
            ]
          },
          "metadata": {},
          "execution_count": 3
        }
      ],
      "source": [
        "#List Methods\n",
        "\n",
        "#count\n",
        "k=[\"Kabir\", True, 23, 6.92,23,True, \"GIT\",\"CE\", 6.92, True, \"CE\" ]\n",
        "c=k.count(23)\n",
        "c"
      ]
    },
    {
      "cell_type": "code",
      "source": [
        "#len\n",
        "print(len(k))"
      ],
      "metadata": {
        "colab": {
          "base_uri": "https://localhost:8080/"
        },
        "id": "loKCKZH3gzjR",
        "outputId": "63eda904-968a-42d7-9c74-3c4a15727c3f"
      },
      "execution_count": 38,
      "outputs": [
        {
          "output_type": "stream",
          "name": "stdout",
          "text": [
            "11\n"
          ]
        }
      ]
    },
    {
      "cell_type": "code",
      "source": [
        "#extend\n",
        "S1=[\"Hi !\"]\n",
        "s1=[\"I'm Kabir\"]\n",
        "S1.extend(s1)\n",
        "S1"
      ],
      "metadata": {
        "colab": {
          "base_uri": "https://localhost:8080/"
        },
        "id": "ZSDfZMdAY4WP",
        "outputId": "a601de60-9eed-409d-95b2-5cece645b0d2"
      },
      "execution_count": 8,
      "outputs": [
        {
          "output_type": "execute_result",
          "data": {
            "text/plain": [
              "['Hi !', \"I'm Kabir\"]"
            ]
          },
          "metadata": {},
          "execution_count": 8
        }
      ]
    },
    {
      "cell_type": "code",
      "source": [
        "#index\n",
        "I=[258,\"Tops\", True, \"Dell\", \"Lenovo\"]\n",
        "I[3]"
      ],
      "metadata": {
        "colab": {
          "base_uri": "https://localhost:8080/",
          "height": 36
        },
        "id": "77NRPI4laS3Y",
        "outputId": "8dbcb97a-ee1a-4c8e-c82d-ad54f8b94f8a"
      },
      "execution_count": 9,
      "outputs": [
        {
          "output_type": "execute_result",
          "data": {
            "text/plain": [
              "'Dell'"
            ],
            "application/vnd.google.colaboratory.intrinsic+json": {
              "type": "string"
            }
          },
          "metadata": {},
          "execution_count": 9
        }
      ]
    },
    {
      "cell_type": "code",
      "source": [
        "I[-3]"
      ],
      "metadata": {
        "colab": {
          "base_uri": "https://localhost:8080/"
        },
        "id": "sYp7vlJFa1QX",
        "outputId": "0072d30f-ab10-4103-a079-c256acb4e094"
      },
      "execution_count": 10,
      "outputs": [
        {
          "output_type": "execute_result",
          "data": {
            "text/plain": [
              "True"
            ]
          },
          "metadata": {},
          "execution_count": 10
        }
      ]
    },
    {
      "cell_type": "code",
      "source": [
        "I[-2:-1]"
      ],
      "metadata": {
        "colab": {
          "base_uri": "https://localhost:8080/"
        },
        "id": "sb_CrdaUa6X_",
        "outputId": "3fb35d29-0f51-461d-f2c6-596d2555862e"
      },
      "execution_count": 13,
      "outputs": [
        {
          "output_type": "execute_result",
          "data": {
            "text/plain": [
              "['Dell']"
            ]
          },
          "metadata": {},
          "execution_count": 13
        }
      ]
    },
    {
      "cell_type": "code",
      "source": [
        "I[1:]"
      ],
      "metadata": {
        "colab": {
          "base_uri": "https://localhost:8080/"
        },
        "id": "X5rT9rR_a-Uc",
        "outputId": "fea87d8c-9a81-46fc-f3eb-13a8409fb5fb"
      },
      "execution_count": 14,
      "outputs": [
        {
          "output_type": "execute_result",
          "data": {
            "text/plain": [
              "['Tops', True, 'Dell', 'Lenovo']"
            ]
          },
          "metadata": {},
          "execution_count": 14
        }
      ]
    },
    {
      "cell_type": "code",
      "source": [
        "#pop\n",
        "I.pop(3) #Index of resp element should be defined\n",
        "I"
      ],
      "metadata": {
        "colab": {
          "base_uri": "https://localhost:8080/"
        },
        "id": "tCOhlwoUbRw6",
        "outputId": "b14db24a-25bd-4a4a-deb3-a98c62fb385f"
      },
      "execution_count": 20,
      "outputs": [
        {
          "output_type": "execute_result",
          "data": {
            "text/plain": [
              "[258, 'Tops', True]"
            ]
          },
          "metadata": {},
          "execution_count": 20
        }
      ]
    },
    {
      "cell_type": "code",
      "source": [
        "#append\n",
        "I.append(\"Lenovo\")\n",
        "I"
      ],
      "metadata": {
        "colab": {
          "base_uri": "https://localhost:8080/"
        },
        "id": "M5crL9-xcAUO",
        "outputId": "48562024-a909-41a4-dcd7-53960f63d9d4"
      },
      "execution_count": 25,
      "outputs": [
        {
          "output_type": "execute_result",
          "data": {
            "text/plain": [
              "[258, 'Tops', True, ['Dell', 'Lenovo'], ('Dell', 'Lenovo'), 'Dell', 'Lenovo']"
            ]
          },
          "metadata": {},
          "execution_count": 25
        }
      ]
    },
    {
      "cell_type": "code",
      "source": [
        "I.pop(3)\n",
        "I"
      ],
      "metadata": {
        "colab": {
          "base_uri": "https://localhost:8080/"
        },
        "id": "DQN8TSsdcvm3",
        "outputId": "8ae102a5-fdbb-41e9-eda7-3bd5178bd5ea"
      },
      "execution_count": 27,
      "outputs": [
        {
          "output_type": "execute_result",
          "data": {
            "text/plain": [
              "[258, 'Tops', True, ('Dell', 'Lenovo'), 'Dell', 'Lenovo']"
            ]
          },
          "metadata": {},
          "execution_count": 27
        }
      ]
    },
    {
      "cell_type": "code",
      "source": [
        "I.pop(3)\n",
        "I"
      ],
      "metadata": {
        "colab": {
          "base_uri": "https://localhost:8080/"
        },
        "id": "5i9SQV1nde2m",
        "outputId": "c1de4297-fd61-4ad9-c4a9-bdf258118cae"
      },
      "execution_count": 28,
      "outputs": [
        {
          "output_type": "execute_result",
          "data": {
            "text/plain": [
              "[258, 'Tops', True, 'Dell', 'Lenovo']"
            ]
          },
          "metadata": {},
          "execution_count": 28
        }
      ]
    },
    {
      "cell_type": "code",
      "source": [
        "#remove\n",
        "I.remove(\"Tops\")\n",
        "I"
      ],
      "metadata": {
        "colab": {
          "base_uri": "https://localhost:8080/"
        },
        "id": "bNMZFE4_dqeS",
        "outputId": "78f79d9d-ef4a-4115-e521-b22271532b7d"
      },
      "execution_count": 29,
      "outputs": [
        {
          "output_type": "execute_result",
          "data": {
            "text/plain": [
              "[258, True, 'Dell', 'Lenovo']"
            ]
          },
          "metadata": {},
          "execution_count": 29
        }
      ]
    },
    {
      "cell_type": "code",
      "source": [
        "#insert\n",
        "I.insert(3,\"HP\")\n",
        "I"
      ],
      "metadata": {
        "colab": {
          "base_uri": "https://localhost:8080/"
        },
        "id": "wIGs2dw9dw3p",
        "outputId": "68c2e25b-d6b2-45f2-a0de-c1350bd751d7"
      },
      "execution_count": 32,
      "outputs": [
        {
          "output_type": "execute_result",
          "data": {
            "text/plain": [
              "[258, True, 'Dell', 'HP', 'Lenovo']"
            ]
          },
          "metadata": {},
          "execution_count": 32
        }
      ]
    },
    {
      "cell_type": "code",
      "source": [
        "#sort\n",
        "IC=[\"Apple\", \"Lenovo\", \"Asus\", \"Dell\", \"HP\", \"Sony\", \"Alienware\", \"Legion\"]\n",
        "IC.sort()\n",
        "IC"
      ],
      "metadata": {
        "colab": {
          "base_uri": "https://localhost:8080/"
        },
        "id": "KUMZeIjId8rs",
        "outputId": "7795a9e8-fa9f-43f6-a547-c82f0df816a6"
      },
      "execution_count": 35,
      "outputs": [
        {
          "output_type": "execute_result",
          "data": {
            "text/plain": [
              "['Alienware', 'Apple', 'Asus', 'Dell', 'HP', 'Legion', 'Lenovo', 'Sony']"
            ]
          },
          "metadata": {},
          "execution_count": 35
        }
      ]
    },
    {
      "cell_type": "code",
      "source": [
        "#Reverse\n",
        "IC.reverse()\n",
        "IC"
      ],
      "metadata": {
        "colab": {
          "base_uri": "https://localhost:8080/"
        },
        "id": "HeQTenYSe99P",
        "outputId": "14b2c46b-b5bc-4632-aca6-f704b376f3ed"
      },
      "execution_count": 36,
      "outputs": [
        {
          "output_type": "execute_result",
          "data": {
            "text/plain": [
              "['Sony', 'Lenovo', 'Legion', 'HP', 'Dell', 'Asus', 'Apple', 'Alienware']"
            ]
          },
          "metadata": {},
          "execution_count": 36
        }
      ]
    },
    {
      "cell_type": "code",
      "source": [
        ""
      ],
      "metadata": {
        "id": "mAMgYlKyf1p8"
      },
      "execution_count": null,
      "outputs": []
    }
  ]
}