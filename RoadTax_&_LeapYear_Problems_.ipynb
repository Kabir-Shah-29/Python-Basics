{
  "nbformat": 4,
  "nbformat_minor": 0,
  "metadata": {
    "colab": {
      "name": "RoadTax & LeapYear Problems .ipynb",
      "provenance": [],
      "collapsed_sections": [],
      "authorship_tag": "ABX9TyOzQAumtYJmL1styKGZQl0L",
      "include_colab_link": true
    },
    "kernelspec": {
      "name": "python3",
      "display_name": "Python 3"
    },
    "language_info": {
      "name": "python"
    }
  },
  "cells": [
    {
      "cell_type": "markdown",
      "metadata": {
        "id": "view-in-github",
        "colab_type": "text"
      },
      "source": [
        "<a href=\"https://colab.research.google.com/github/Lunatic-2981/Python/blob/main/RoadTax_%26_LeapYear_Problems_.ipynb\" target=\"_parent\"><img src=\"https://colab.research.google.com/assets/colab-badge.svg\" alt=\"Open In Colab\"/></a>"
      ]
    },
    {
      "cell_type": "code",
      "execution_count": 1,
      "metadata": {
        "colab": {
          "base_uri": "https://localhost:8080/"
        },
        "id": "iZsvkSbsATOd",
        "outputId": "9a337452-0969-4400-f71c-90f46d031a6d"
      },
      "outputs": [
        {
          "output_type": "stream",
          "name": "stdout",
          "text": [
            "Please enter price of your bike: 58000\n",
            "The road tax on your bike is 10%\n"
          ]
        }
      ],
      "source": [
        "b1=int(input(\"Please enter price of your bike: \"))\n",
        "x=50000\n",
        "y=100000\n",
        "if b1>y : \n",
        "  print(\"The road tax on your bike is 15%\")\n",
        "elif x<b1<=y:\n",
        "  print(\"The road tax on your bike is 10%\")\n",
        "else:\n",
        "  print(\"The road tax on your bike is 5%\")"
      ]
    },
    {
      "cell_type": "code",
      "source": [
        "lp=int(input(\"Please enter the year :\"))\n",
        "s1=(\"{} is a leap year !!\")\n",
        "s2=(\"{} isn't a leap year !!\")\n",
        "if lp % 4 == 0:\n",
        "  if lp % 100 == 0:\n",
        "    if lp % 400 == 0:\n",
        "      print(s1.format(lp))\n",
        "    else:\n",
        "      print(s2.format(lp))\n",
        "  else:\n",
        "      print(s1.format(lp))\n",
        "else:\n",
        "      print(s2.format(lp))"
      ],
      "metadata": {
        "colab": {
          "base_uri": "https://localhost:8080/"
        },
        "id": "QEoZt_qnAgT9",
        "outputId": "c9cfba24-5f3d-4287-c342-de43d88d57c3"
      },
      "execution_count": 2,
      "outputs": [
        {
          "output_type": "stream",
          "name": "stdout",
          "text": [
            "Please enter the year :2015\n",
            "2015 isn't a leap year !!\n"
          ]
        }
      ]
    },
    {
      "cell_type": "code",
      "source": [
        "lp=int(input(\"Please enter the year :\"))\n",
        "s1=(\"{} is a leap year !!\")\n",
        "s2=(\"{} isn't a leap year !!\")\n",
        "if lp % 4 == 0:\n",
        "  if lp % 100 == 0:\n",
        "    if lp % 400 == 0:\n",
        "      print(s1.format(lp))\n",
        "    else:\n",
        "      print(s2.format(lp))\n",
        "  else:\n",
        "      print(s1.format(lp))\n",
        "else:\n",
        "      print(s2.format(lp))"
      ],
      "metadata": {
        "colab": {
          "base_uri": "https://localhost:8080/"
        },
        "id": "nKdKF3pcAqls",
        "outputId": "270929d9-55a4-470e-be72-f4025683d20e"
      },
      "execution_count": 3,
      "outputs": [
        {
          "output_type": "stream",
          "name": "stdout",
          "text": [
            "Please enter the year :2008\n",
            "2008 is a leap year !!\n"
          ]
        }
      ]
    },
    {
      "cell_type": "code",
      "source": [
        ""
      ],
      "metadata": {
        "id": "Ng7DzgCqAtsF"
      },
      "execution_count": null,
      "outputs": []
    }
  ]
}