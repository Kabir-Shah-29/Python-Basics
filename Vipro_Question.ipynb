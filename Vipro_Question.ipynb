{
  "nbformat": 4,
  "nbformat_minor": 0,
  "metadata": {
    "colab": {
      "name": "Wipro Question.ipynb",
      "provenance": [],
      "collapsed_sections": [],
      "authorship_tag": "ABX9TyO7LXwWqYWExsX9xZsnvCVg",
      "include_colab_link": true
    },
    "kernelspec": {
      "name": "python3",
      "display_name": "Python 3"
    },
    "language_info": {
      "name": "python"
    }
  },
  "cells": [
    {
      "cell_type": "markdown",
      "metadata": {
        "id": "view-in-github",
        "colab_type": "text"
      },
      "source": [
        "<a href=\"https://colab.research.google.com/github/Lunatic-2981/Python/blob/main/Wipro_Question.ipynb\" target=\"_parent\"><img src=\"https://colab.research.google.com/assets/colab-badge.svg\" alt=\"Open In Colab\"/></a>"
      ]
    },
    {
      "cell_type": "code",
      "execution_count": 9,
      "metadata": {
        "id": "Zt4YEx43JFEk"
      },
      "outputs": [],
      "source": [
        "#Vipro Question\n",
        "a=[100,200,300]\n",
        "b=20\n",
        "c=200\n",
        "d=b in list(a)\n",
        "e=\"{} isn't in the list\""
      ]
    },
    {
      "cell_type": "code",
      "source": [
        "#Case 1 Without using loops or conditional statements\n"
      ],
      "metadata": {
        "id": "LUyO9o3MKHUb"
      },
      "execution_count": null,
      "outputs": []
    },
    {
      "cell_type": "code",
      "source": [
        "#Case 2(a) Using if else statement\n",
        "if (b in list(a)):\n",
        "  a.insert(1,200)\n",
        "else:\n",
        "  print(e.format(b))"
      ],
      "metadata": {
        "colab": {
          "base_uri": "https://localhost:8080/"
        },
        "id": "4d0Kgb8YLiou",
        "outputId": "75fc873c-fecf-401d-9b41-6800f4fcb71e"
      },
      "execution_count": null,
      "outputs": [
        {
          "output_type": "stream",
          "name": "stdout",
          "text": [
            "20 isn't in the list\n"
          ]
        }
      ]
    },
    {
      "cell_type": "code",
      "source": [
        "#Case 2(b) Using if else statement\n",
        "if(d==True):\n",
        "  a[1]=200\n",
        "else:\n",
        "  print(e.format(b))"
      ],
      "metadata": {
        "id": "6OIEOyTPMWKJ",
        "colab": {
          "base_uri": "https://localhost:8080/"
        },
        "outputId": "f1775e1d-d694-4ff3-80e3-72b31156d73e"
      },
      "execution_count": null,
      "outputs": [
        {
          "output_type": "stream",
          "name": "stdout",
          "text": [
            "20 isn't in the list\n"
          ]
        }
      ]
    },
    {
      "cell_type": "code",
      "source": [
        "#Case 3(a) Using while & if  statement\n",
        "while(b in list(a)):\n",
        "  a[1]=200\n",
        "if(d==False):\n",
        "  print(e.format(b))"
      ],
      "metadata": {
        "colab": {
          "base_uri": "https://localhost:8080/"
        },
        "id": "aifLcghpN5C6",
        "outputId": "e42d445b-7ac3-4d3b-fe1a-c22b3b994923"
      },
      "execution_count": null,
      "outputs": [
        {
          "output_type": "stream",
          "name": "stdout",
          "text": [
            "20 isn't in the list\n"
          ]
        }
      ]
    },
    {
      "cell_type": "code",
      "source": [
        "#Case 3(b) Using while & if  statement\n",
        "while(d==True):\n",
        "  a[1]=200\n",
        "if(d==False):\n",
        "  print(e.format(b))"
      ],
      "metadata": {
        "colab": {
          "base_uri": "https://localhost:8080/"
        },
        "id": "dZZT2KTzPB6a",
        "outputId": "ffb6c682-47e0-4ca6-8f86-03c48b6e6f6a"
      },
      "execution_count": null,
      "outputs": [
        {
          "output_type": "stream",
          "name": "stdout",
          "text": [
            "20 isn't in the list\n"
          ]
        }
      ]
    },
    {
      "cell_type": "code",
      "source": [
        "#Case 3(c) Using while & if  statement\n",
        "while(d==True):\n",
        "  a[1]=200\n",
        "if(b not in list(a)):\n",
        "  print(e.format(b))"
      ],
      "metadata": {
        "colab": {
          "base_uri": "https://localhost:8080/"
        },
        "id": "0zaW1tJkPdE5",
        "outputId": "100514db-1173-4630-8ddb-952b3b127769"
      },
      "execution_count": null,
      "outputs": [
        {
          "output_type": "stream",
          "name": "stdout",
          "text": [
            "20 isn't in the list\n"
          ]
        }
      ]
    }
  ]
}
