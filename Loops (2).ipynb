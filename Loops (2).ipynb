{
  "nbformat": 4,
  "nbformat_minor": 0,
  "metadata": {
    "colab": {
      "name": "Loops.ipynb",
      "provenance": [],
      "authorship_tag": "ABX9TyOvOefJbj7FEitoC6EvS5eG",
      "include_colab_link": true
    },
    "kernelspec": {
      "name": "python3",
      "display_name": "Python 3"
    },
    "language_info": {
      "name": "python"
    }
  },
  "cells": [
    {
      "cell_type": "markdown",
      "metadata": {
        "id": "view-in-github",
        "colab_type": "text"
      },
      "source": [
        "<a href=\"https://colab.research.google.com/github/Lunatic-2981/Python/blob/main/Loops.ipynb\" target=\"_parent\"><img src=\"https://colab.research.google.com/assets/colab-badge.svg\" alt=\"Open In Colab\"/></a>"
      ]
    },
    {
      "cell_type": "code",
      "execution_count": null,
      "metadata": {
        "colab": {
          "base_uri": "https://localhost:8080/"
        },
        "id": "k-usXhpwqJCH",
        "outputId": "387eb0b5-3088-427d-8474-d4f423d321dd"
      },
      "outputs": [
        {
          "output_type": "stream",
          "name": "stdout",
          "text": [
            "2\n",
            "4\n",
            "6\n",
            "8\n",
            "10\n",
            "12\n",
            "14\n",
            "16\n",
            "18\n",
            "20\n"
          ]
        }
      ],
      "source": [
        "#First ten even numbers\n",
        "a=2\n",
        "while a<=20:\n",
        "  print(a)\n",
        "  a=a+2"
      ]
    },
    {
      "cell_type": "code",
      "source": [
        "#First 10 even numbers reversed\n",
        "a1=20\n",
        "while a1>=2:\n",
        "  print(a1)\n",
        "  a1=a1-2"
      ],
      "metadata": {
        "colab": {
          "base_uri": "https://localhost:8080/"
        },
        "id": "dFGTZkDWqVCG",
        "outputId": "f14f1699-ead0-4dff-ce6b-56cd9f23f8d5"
      },
      "execution_count": null,
      "outputs": [
        {
          "output_type": "stream",
          "name": "stdout",
          "text": [
            "20\n",
            "18\n",
            "16\n",
            "14\n",
            "12\n",
            "10\n",
            "8\n",
            "6\n",
            "4\n",
            "2\n"
          ]
        }
      ]
    },
    {
      "cell_type": "code",
      "source": [
        "a2=1\n",
        "b=10\n",
        "while a2<=20:\n",
        "  print(a2*b)\n",
        "  a2+=1"
      ],
      "metadata": {
        "colab": {
          "base_uri": "https://localhost:8080/"
        },
        "id": "7L443fIOrmUN",
        "outputId": "1de67300-c9f2-4593-f39c-222c16a90b83"
      },
      "execution_count": null,
      "outputs": [
        {
          "output_type": "stream",
          "name": "stdout",
          "text": [
            "10\n",
            "20\n",
            "30\n",
            "40\n",
            "50\n",
            "60\n",
            "70\n",
            "80\n",
            "90\n",
            "100\n",
            "110\n",
            "120\n",
            "130\n",
            "140\n",
            "150\n",
            "160\n",
            "170\n",
            "180\n",
            "190\n",
            "200\n"
          ]
        }
      ]
    },
    {
      "cell_type": "code",
      "source": [
        "#Print table of number given by user\n",
        "m=1\n",
        "m1=int(input(\"Enter a number :\"))\n",
        "m2=m*m1\n",
        "while m<=10:\n",
        "  print(m1, \"*\", m, \"=\", m2)\n",
        "  m+=1"
      ],
      "metadata": {
        "colab": {
          "base_uri": "https://localhost:8080/"
        },
        "id": "1GvUjZpNuHmz",
        "outputId": "a86559dc-7ffb-433c-b28b-720c49e3ced6"
      },
      "execution_count": null,
      "outputs": [
        {
          "output_type": "stream",
          "name": "stdout",
          "text": [
            "Enter a number :8\n",
            "8 * 1 = 8\n",
            "8 * 2 = 8\n",
            "8 * 3 = 8\n",
            "8 * 4 = 8\n",
            "8 * 5 = 8\n",
            "8 * 6 = 8\n",
            "8 * 7 = 8\n",
            "8 * 8 = 8\n",
            "8 * 9 = 8\n",
            "8 * 10 = 8\n"
          ]
        }
      ]
    },
    {
      "cell_type": "code",
      "source": [
        "#Prime numbers(1)\n",
        "num = int(input(\"Enter a number :\"))  \n",
        "if num > 1:\n",
        "  for i in range(2, num//2):\n",
        "    if (num % i) == 0:\n",
        "      print(num, \"is not a prime number\")\n",
        "      break\n",
        "    else:\n",
        "      print(num, \"is a prime number\")\n",
        "else:\n",
        "  print(num, \"is not a prime number\")"
      ],
      "metadata": {
        "colab": {
          "base_uri": "https://localhost:8080/"
        },
        "id": "zpl6xncQ1u_t",
        "outputId": "0b4a0dc6-6589-40e1-eb2c-21d332c92585"
      },
      "execution_count": null,
      "outputs": [
        {
          "output_type": "stream",
          "name": "stdout",
          "text": [
            "Enter a number :56\n",
            "56 is not a prime number\n"
          ]
        }
      ]
    },
    {
      "cell_type": "code",
      "source": [
        "#Prime numbers(0)\n",
        "num = int(input(\"Enter a number :\"))  \n",
        "if num > 1:\n",
        "  for i in range(2, num//2):\n",
        "    if (num % i) == 0:\n",
        "      print(num, \"is not a prime number\")\n",
        "      break\n",
        "    else:\n",
        "      print(num, \"is a prime number\")\n",
        "else:\n",
        "  print(num, \"is not a prime number\")"
      ],
      "metadata": {
        "id": "BCNYAKeeYWkE"
      },
      "execution_count": null,
      "outputs": []
    },
    {
      "cell_type": "code",
      "source": [
        "#Reverse the number\n",
        "num1=input(\"Please enter a number :\")\n",
        "n=(len(num1))\n",
        "num2=\"\"\n",
        "for i in range(n-1,-1,-1):\n",
        "  num2=num2+num1[i]\n",
        "print(num2)"
      ],
      "metadata": {
        "id": "xBIR4jCB4Qum",
        "colab": {
          "base_uri": "https://localhost:8080/"
        },
        "outputId": "5c74e55f-82b8-4553-98b4-56d518b34a7d"
      },
      "execution_count": null,
      "outputs": [
        {
          "output_type": "stream",
          "name": "stdout",
          "text": [
            "Please enter a number :456\n",
            "654\n"
          ]
        }
      ]
    },
    {
      "cell_type": "code",
      "source": [
        "#Factorial\n",
        "n1=int(input(\"Please enter a number greater than 0 :\"))\n",
        "factorial=1\n",
        "if n1==1:\n",
        "  print(\"The factorial of \",n1,\" is 1\",)\n",
        "else:\n",
        "  for i in range(1,n1+1):\n",
        "    factorial=factorial*i\n",
        "  print(\"The factorial of \",n1,\" is \",factorial)"
      ],
      "metadata": {
        "colab": {
          "base_uri": "https://localhost:8080/"
        },
        "id": "x5jF51pCSUJm",
        "outputId": "99271ef4-041f-4413-d142-1525f923ba55"
      },
      "execution_count": 10,
      "outputs": [
        {
          "output_type": "stream",
          "name": "stdout",
          "text": [
            "Please enter a number greater than 0 :6\n",
            "The factorial of  6  is  720\n"
          ]
        }
      ]
    },
    {
      "cell_type": "code",
      "source": [
        "#Palindrome(1)\n",
        "num1=input(\"Please enter a number :\")\n",
        "n=(len(num1))\n",
        "num2=\"\"\n",
        "for i in range(n-1,-1,-1):\n",
        "  num2=num2+num1[i]\n",
        "if num1==num2:\n",
        "  print(\"The number is palindrome !\")\n",
        "else:\n",
        "  print(\"The number isn't a palindrome !\")"
      ],
      "metadata": {
        "colab": {
          "base_uri": "https://localhost:8080/"
        },
        "id": "O1q3oAEKVZuK",
        "outputId": "a2245426-154a-4879-9c6e-c7ad216f0719"
      },
      "execution_count": 12,
      "outputs": [
        {
          "output_type": "stream",
          "name": "stdout",
          "text": [
            "Please enter a number :4321551234\n",
            "The number is palindrome !\n"
          ]
        }
      ]
    },
    {
      "cell_type": "code",
      "source": [
        "#Palindrome(0)\n",
        "num1=input(\"Please enter a number :\")\n",
        "n=(len(num1))\n",
        "num2=\"\"\n",
        "for i in range(n-1,-1,-1):\n",
        "  num2=num2+num1[i]\n",
        "if num1==num2:\n",
        "  print(\"The number is palindrome !\")\n",
        "else:\n",
        "  print(\"The number isn't a palindrome !\")"
      ],
      "metadata": {
        "colab": {
          "base_uri": "https://localhost:8080/"
        },
        "id": "stK7H7qlX_Wc",
        "outputId": "67ce53ba-924f-4b55-f108-ba12ecafa514"
      },
      "execution_count": 13,
      "outputs": [
        {
          "output_type": "stream",
          "name": "stdout",
          "text": [
            "Please enter a number :123654\n",
            "The number isn't a palindrome !\n"
          ]
        }
      ]
    },
    {
      "cell_type": "code",
      "source": [
        "#Printing all characters of my name \n",
        "s1=input(\"Please enter your name :\")\n",
        "s=len(s1)\n",
        "for i in range(0,s,1):\n",
        "  print(s1[i])"
      ],
      "metadata": {
        "colab": {
          "base_uri": "https://localhost:8080/"
        },
        "id": "PEUvWNKsYMvW",
        "outputId": "8f3ec1d0-1cdb-47f5-8dbc-117c97760044"
      },
      "execution_count": 15,
      "outputs": [
        {
          "output_type": "stream",
          "name": "stdout",
          "text": [
            "Please enter your name :Kabir\n",
            "K\n",
            "a\n",
            "b\n",
            "i\n",
            "r\n"
          ]
        }
      ]
    },
    {
      "cell_type": "code",
      "source": [
        "#Print all the factors of entered number\n",
        "f=int(input(\"Please enter a 2 digit number :\"))\n",
        "for i in range (1,f):\n",
        "  if f%i==0:\n",
        "    print(i)"
      ],
      "metadata": {
        "colab": {
          "base_uri": "https://localhost:8080/"
        },
        "id": "1YiUn_OoaCtt",
        "outputId": "ae1a17df-dd13-4bdf-afc6-09456585f19f"
      },
      "execution_count": 20,
      "outputs": [
        {
          "output_type": "stream",
          "name": "stdout",
          "text": [
            "Please enter a 2 digit number :50\n",
            "1\n",
            "2\n",
            "5\n",
            "10\n",
            "25\n"
          ]
        }
      ]
    },
    {
      "cell_type": "code",
      "source": [
        ""
      ],
      "metadata": {
        "id": "rGtcFSOOeOdm"
      },
      "execution_count": null,
      "outputs": []
    }
  ]
}